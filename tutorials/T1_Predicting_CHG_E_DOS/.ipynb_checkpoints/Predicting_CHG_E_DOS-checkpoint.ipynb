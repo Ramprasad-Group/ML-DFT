{
 "cells": [
  {
   "cell_type": "code",
   "execution_count": null,
   "metadata": {},
   "outputs": [],
   "source": [
    "import warnings\n",
    "warnings.filterwarnings('ignore')\n",
    "import numpy as np\n",
    "import pymatgen\n",
    "from pymatgen import io\n",
    "from pymatgen.io.vasp.outputs import Poscar\n",
    "from pymatgen import Structure\n",
    "import time\n",
    "from keras.preprocessing.sequence import pad_sequences\n",
    "import pandas as pd\n",
    "import os"
   ]
  },
  {
   "cell_type": "markdown",
   "metadata": {},
   "source": [
    "Once the necessary packages are loaded, we load the specific functions required to fingerprint and predict the electron density, potential energy, and DOS. They are located in the src/ folder."
   ]
  },
  {
   "cell_type": "code",
   "execution_count": null,
   "metadata": {},
   "outputs": [],
   "source": [
    "import sys\n",
    "#sys.path.insert(1, '../../src/')\n",
    "from KSemulator.src.FP import fp_atom,fp_chg_norm,fp_newnorm,meanfp_DOS\n",
    "from KSemulator.src.CHG import chg_predict,chg_ref,chg_pts,chg_print,chg_train, retrain_chgmodel,chg_dat_prep,coef_predict\n",
    "from KSemulator.src.Energy import energy_predict,e_train,retrain_emodel\n",
    "from KSemulator.src.DOS import DOS_pred, DOS_plot,dos_train,retrain_dosmodel,retrain_vbcbmodel,VBCB_pred"
   ]
  },
  {
   "cell_type": "markdown",
   "metadata": {},
   "source": [
    "Lastly, we load the necessary parameters from inp_params.py that will specify different aspects of the predictions."
   ]
  },
  {
   "cell_type": "code",
   "execution_count": null,
   "metadata": {},
   "outputs": [],
   "source": [
    "from inp_params import train_chg,crt_epochs,crt_batch_size, crt_patience,train_e,ert_epochs,ert_batch_size,ert_patience,train_dos,drt_epochs,drt_batch_size,drt_patience,vrt_epochs,vrt_batch_size,vrt_patience,test_chg,test_e,test_dos,plot_dos,write_chg,grid_spacing,batch_size_fp, num_gamma, cut_off_rad, widest_gaussian, narrowest_gaussian,padding_size"
   ]
  },
  {
   "cell_type": "code",
   "execution_count": null,
   "metadata": {},
   "outputs": [],
   "source": [
    "class Input_parameters:\n",
    "    train_chg=train_chg\n",
    "    crt_epochs=crt_epochs\n",
    "    crt_batch_size=crt_batch_size\n",
    "    crt_patience=crt_patience\n",
    "    train_e=train_e\n",
    "    ert_epochs=ert_epochs\n",
    "    ert_batch_size=ert_batch_size\n",
    "    ert_patience=ert_patience\n",
    "    train_dos=train_dos\n",
    "    drt_epochs=drt_epochs\n",
    "    drt_batch_size=drt_batch_size\n",
    "    drt_patience=drt_patience\n",
    "    vrt_epochs=vrt_epochs\n",
    "    vrt_batch_size=vrt_batch_size\n",
    "    vrt_patience=vrt_patience\n",
    "    test_chg=test_chg\n",
    "    test_e=test_e\n",
    "    test_dos=test_dos\n",
    "    plot_dos=plot_dos\n",
    "    write_chg=write_chg\n",
    "    grid_spacing=grid_spacing\n",
    "    padding_size=padding_size\n",
    "\n",
    "inp_args=Input_parameters()\n",
    "elec_dict={6:4,  1:1}"
   ]
  },
  {
   "cell_type": "markdown",
   "metadata": {},
   "source": [
    "Note that in the previous cell we define the dictionary elec_dict which connects the atomic number of each atom with the number of valence electrons it has. Carbon has atomic number 6, and in the POTCAR we used for our reference VASP calculations, the number of valence electrons is 4. For Hydrogen, with atomic number 1, it only has 1 electron.\n",
    "\n",
    "Now we will read the configurations for which we want to make predictions. The program will read the location of the POSCAR file from predict.csv. In this example, the file only contains 1 file, but NN_DFT.py is prepared to read multiple files. Feel free to change the location of the POSCAR file to the available ones in the database/ folder."
   ]
  },
  {
   "cell_type": "code",
   "execution_count": null,
   "metadata": {},
   "outputs": [],
   "source": [
    "df_train_test = pd.read_csv(\"predict.csv\")\n",
    "file_loc_train = df_train_test['file_loc_train'].tolist()\n",
    "inp_args.file_loc_train= [x for x in file_loc_train  if str(x) != 'nan']"
   ]
  },
  {
   "cell_type": "markdown",
   "metadata": {},
   "source": [
    "Next, various info is read from the POSCAR file such as the volume of the cell ('vol'), and the cell parameters('dim')."
   ]
  },
  {
   "cell_type": "code",
   "execution_count": null,
   "metadata": {},
   "outputs": [],
   "source": [
    "poscar_file = os.path.join(inp_args.file_loc_train[0],\"POSCAR\")\n",
    "poscar_data=Poscar.from_file(poscar_file)\n",
    "vol = poscar_data.structure.volume\n",
    "supercell = poscar_data.structure\n",
    "dim=supercell.lattice.matrix"
   ]
  },
  {
   "cell_type": "markdown",
   "metadata": {},
   "source": [
    "And now we compute the total number of electrons using the electron dictionary (elec_dict) we defined previously. Also, we sort the atomic symbols, so that carbon (C) will be first, and then hydrogen (H)."
   ]
  },
  {
   "cell_type": "code",
   "execution_count": null,
   "metadata": {},
   "outputs": [],
   "source": [
    "elems_list = sorted(list(set(poscar_data.site_symbols)))\n",
    "electrons_list = [elec_dict[x] for x in list(poscar_data.structure.atomic_numbers)]\n",
    "inp_args.total_elec = sum(electrons_list)"
   ]
  },
  {
   "cell_type": "markdown",
   "metadata": {},
   "source": [
    "And now we fingerprint each atom in the cell. We call the function fp_atom which only requires the information of the cell ('supercell') and the list of elements which has the number of carbon atoms and the number of hydrogen atoms.\n",
    "As output, we obtain the fingerprints set ('dset'), the position of each atom separated by element type ('sites_elem'), the total number of atoms ('num_atoms'), and the atoms per element ('at_elem')."
   ]
  },
  {
   "cell_type": "code",
   "execution_count": null,
   "metadata": {},
   "outputs": [],
   "source": [
    "start = time.time()\n",
    "dset,sites_elem,num_atoms,at_elem=fp_atom(supercell,elems_list)\n",
    "end_fp = time.time()\n",
    "print('Time for FP:',end_fp-start)"
   ]
  },
  {
   "cell_type": "markdown",
   "metadata": {},
   "source": [
    "To speed up the process of fingerprinting we use Tensorflow. As will be seen throughout this example, most of the time taken by the KS-emulator is for fingerprinting the structure.  "
   ]
  },
  {
   "cell_type": "markdown",
   "metadata": {},
   "source": [
    "Next, we separate the fingerprints into those belonging to carbon atoms (dataset_at1) and those from hydrogen atoms (dataset_at2)."
   ]
  },
  {
   "cell_type": "code",
   "execution_count": null,
   "metadata": {},
   "outputs": [],
   "source": [
    "dataset1 = dset[:]\n",
    "i1=at_elem[0]\n",
    "i2=at_elem[1]\n",
    "num_atoms=dataset1.shape[0]\n",
    "dataset_at1=dataset1[0:i1]\n",
    "dataset_at2=dataset1[i1:]\n",
    "del dataset1"
   ]
  },
  {
   "cell_type": "markdown",
   "metadata": {},
   "source": [
    "The next step is to pad the fingerprints. During training, but also as a useful tool for prediction of various structures at one time, we decided to maintain the padding process. Therefore, if you are making predictions for a set of multiple different structures, choose as padding_size the highest number of atoms you have for either C or H and write it in the inp_param.py under padding_size. Right now is 200, which is higher than any number of atoms for the structures in the database. \n",
    "During padding, fictitious atoms are added with 0 value fingerprints, up to 200. These fictitious atoms do not contribute towards the final predictions."
   ]
  },
  {
   "cell_type": "code",
   "execution_count": null,
   "metadata": {},
   "outputs": [],
   "source": [
    "X_tot_at1=pad_sequences(dataset_at1.T,maxlen=padding_size,dtype='float32',padding='post',value=0.0)\n",
    "X_tot_at2=pad_sequences(dataset_at2.T,maxlen=padding_size,dtype='float32',padding='post',value=0.0)\n",
    "X_3D1=np.reshape(X_tot_at1.T,(1,padding_size,dataset_at1.shape[1]))\n",
    "X_3D2=np.reshape(X_tot_at2.T,(1,padding_size,dataset_at2.shape[1]))"
   ]
  },
  {
   "cell_type": "markdown",
   "metadata": {},
   "source": [
    "Once the fingerprint tensors are padded, the chg_predict funtion predicts the valence electron density components and atomic charge for each atom."
   ]
  },
  {
   "cell_type": "code",
   "execution_count": null,
   "metadata": {},
   "outputs": [],
   "source": [
    "start = time.time()\n",
    "Coef_at1,Coef_at2,C_at_charge, H_at_charge=chg_predict(X_3D1,X_3D2,i1,i2,sites_elem)\n",
    "end_chg = time.time()\n",
    "print('Time for electron density components:',end_chg-start)"
   ]
  },
  {
   "cell_type": "markdown",
   "metadata": {},
   "source": [
    "The time taken for the prediction may be larger than reported in the manuscript. This is because the model had to be initialized. Once initialized, if multiple predictions are done, the time for each one is greatly reduced. This can be checked by runing again the previous cell; the prediction time is reduced by one order of magnitude."
   ]
  },
  {
   "cell_type": "markdown",
   "metadata": {},
   "source": [
    "We can print out the valence electrons associated with each atom. For C, being more electronegative than H, it will tend to have values slightly higher than 4. H atoms will always have values lower than 1."
   ]
  },
  {
   "cell_type": "code",
   "execution_count": null,
   "metadata": {},
   "outputs": [],
   "source": [
    "print('Atomic charges for the C atoms (same order as in POSCAR):', C_at_charge)\n",
    "print('Atomic charges for the H atoms (same order as in POSCAR):', H_at_charge)"
   ]
  },
  {
   "cell_type": "markdown",
   "metadata": {},
   "source": [
    "For future use, these values are printed out on text files, named by the location of the POSCAR file, so as to not overwrite other charge files from different structures."
   ]
  },
  {
   "cell_type": "code",
   "execution_count": null,
   "metadata": {},
   "outputs": [],
   "source": [
    "localfile_loc = inp_args.file_loc_train[0].replace(\"/\", \"_\")\n",
    "print(\"Writing atomic charges to text files...\")\n",
    "np.savetxt(\"C_charges\" + localfile_loc + \".txt\",np.c_[C_at_charge])\n",
    "np.savetxt(\"H_charges\" + localfile_loc + \".txt\",np.c_[H_at_charge])"
   ]
  },
  {
   "cell_type": "markdown",
   "metadata": {},
   "source": [
    "As described in the manuscript, once the electron density components are predicted, they are used, along with teh fingerprints, as input for the prediction of the total potential energy and DOS. the fp_chg_norm function simply concatenates these components to the fingerprints for each atom and normalizes them giving X_C and X_H. It is a very fast process."
   ]
  },
  {
   "cell_type": "code",
   "execution_count": null,
   "metadata": {},
   "outputs": [],
   "source": [
    "start = time.time()\n",
    "X_C,X_H=fp_chg_norm(Coef_at1,Coef_at2,X_3D1,X_3D2)\n",
    "end_fpnorm = time.time()\n",
    "print('Time for FPnorm:',end_fpnorm-start)"
   ]
  },
  {
   "cell_type": "markdown",
   "metadata": {},
   "source": [
    "Then, the energy_predict function simply predicts the atomic potential energy for each atom and sums it all. As with the charge density prediction, the first time it takes longer. If rerun the cell, the time decreases significantly."
   ]
  },
  {
   "cell_type": "code",
   "execution_count": null,
   "metadata": {},
   "outputs": [],
   "source": [
    "start = time.time()\n",
    "Pred_Energy=energy_predict(X_C,X_H,np.array(num_atoms).reshape(1,1))\n",
    "end_energy = time.time()\n",
    "print('Time for Energy:',end_energy-start)\n",
    "print('Total potential energy:', Pred_Energy)"
   ]
  },
  {
   "cell_type": "markdown",
   "metadata": {},
   "source": [
    "At the same time, the DOS is also predicted by using the X_C and X_H. DOS_pred also uses the predicted DOS, normalized by the total number of electrons, calculates the mean fingerprint value of the structure using a weighted sum of dataset_at1 and dataset_at2, and concatenates it to the normalized DOS to predict the valence abnd and conduction band (VBCB). "
   ]
  },
  {
   "cell_type": "markdown",
   "metadata": {},
   "source": [
    "Once again, runing the cell a second time will show the true time required to predict the DOS for the structure. It is still higher than for the charge density and potnetial energy as it also evaluates the uncertianty in the prediction. This uncertanty evaluation requires the prediction of the DOS 100 times."
   ]
  },
  {
   "cell_type": "code",
   "execution_count": null,
   "metadata": {},
   "outputs": [],
   "source": [
    "start = time.time()\n",
    "Pred,uncertainty=DOS_pred(X_C,X_H,np.array(inp_args.total_elec).reshape(1,1))\n",
    "DOS=np.squeeze(Pred)\n",
    "VBCB=VBCB_pred(DOS,dataset_at1,dataset_at2,inp_args.total_elec)\n",
    "end_DOS = time.time()\n",
    "print('Time for DOS:',end_DOS-start)"
   ]
  },
  {
   "cell_type": "code",
   "execution_count": null,
   "metadata": {},
   "outputs": [],
   "source": [
    "VB=(-1)*VBCB[0]\n",
    "CB=(-1)*VBCB[1]\n",
    "BG=CB-VB\n",
    "print('Valence band:', VB)\n",
    "print('Conduction band:', CB)\n",
    "print('Bandgap:', BG)"
   ]
  },
  {
   "cell_type": "markdown",
   "metadata": {},
   "source": [
    "Next, the predicted DOS curve is printed out in a txt file."
   ]
  },
  {
   "cell_type": "code",
   "execution_count": null,
   "metadata": {},
   "outputs": [],
   "source": [
    "energy_wind=np.arange(-25.0,1.1,0.1)\n",
    "print(\"Writing DOS curve to text file...\")\n",
    "np.savetxt(\"DOS\" + localfile_loc + \".txt\",np.c_[energy_wind,DOS])"
   ]
  },
  {
   "cell_type": "markdown",
   "metadata": {},
   "source": [
    "Additionally, the code already provides the option to make a png image of the DOS curve with the uncertainty and valence and conduction bands. To activate this option when running in command line, make plot_dos=True in inp_params.py"
   ]
  },
  {
   "cell_type": "code",
   "execution_count": null,
   "metadata": {},
   "outputs": [],
   "source": [
    "DOS_plot(energy_wind,DOS,VB,CB,uncertainty, localfile_loc)"
   ]
  },
  {
   "cell_type": "code",
   "execution_count": null,
   "metadata": {},
   "outputs": [],
   "source": [
    "from IPython.display import Image\n",
    "fig = Image(filename=(\"dos_\" + localfile_loc + \" .png\"))\n",
    "fig"
   ]
  },
  {
   "cell_type": "markdown",
   "metadata": {},
   "source": [
    "The predicted DOS curve is shown in red, with a grey shadowed area identifying the uncertainty in the prediction. As explained in the manuscript, the valence and conduction bands do not fall on the zero value of DOS, because they are trained by using as reference the actual eigenvalues, to avoid the effect of the gaussian smearing used to smooth the DOS curve. All values are given with respect to the vacuum leve (0 eV)."
   ]
  },
  {
   "cell_type": "markdown",
   "metadata": {},
   "source": [
    "One final tool provided with the KS emulator package is the print out of the predicted valence electron density projected onto grid points. There are two options to use this tool:\n",
    "\n",
    "1) By simply selecting a grid spacing (in inp_params.py), the code will calculate and identify the coordenates of the corresponding grid points from the cell structure and use the predicted components of the electron density to project it onto them. \n",
    "\n",
    "2) If a reference CHGCAR file already exists and the user desires to make a prediction to compare with it, then it needs to write ref_chg=True in inp_params.py, and the code will automatically search for the CHGCAR, read the grid points and coordinates and project onto them the predicted electron density.\n",
    "\n",
    "In both cases, the projected electron density is written in the same format as CHGCAR from VASP, to be further used in visualization tools or other postprocessing tools such as ---- to study the non-covalent interactions, for example. To be read by visulaization tool such as VESTA, the name of the file only needs to be changed to 'CHGCAR'."
   ]
  },
  {
   "cell_type": "code",
   "execution_count": null,
   "metadata": {},
   "outputs": [],
   "source": [
    "import shutil\n",
    "\n",
    "shutil.copy2(poscar_file, \"Pred_CHG_test\"+ localfile_loc +\".dat\")"
   ]
  },
  {
   "cell_type": "markdown",
   "metadata": {},
   "source": [
    "In the following example, we simple define a grid spacing of 0.2 (see inp_params.py) to project the charge density onto it. A larger or smaller grid spacing will not influence the accuracy of the charge density or other predicted properties, only the granularity of the visualization. \n",
    "\n",
    "IMPORTANT!!: Projecting the predicted electron density onto grid points is a time consuming process (the most time consuming of the entire process). As it is not require for the KS emulator, only is further postprocessing is desired, we advice the user to use this tool with caution."
   ]
  },
  {
   "cell_type": "code",
   "execution_count": null,
   "metadata": {},
   "outputs": [],
   "source": [
    "chg_coor=chg_pts(poscar_data, supercell,grid_spacing,localfile_loc)"
   ]
  },
  {
   "cell_type": "code",
   "execution_count": null,
   "metadata": {},
   "outputs": [],
   "source": [
    "start = time.time()\n",
    "chg_print(poscar_data, sites_elem, Coef_at1, Coef_at2, chg_coor, dim,vol,localfile_loc)\n",
    "end_prCHG=time.time()\n",
    "print('Time for printing CHG:',end_prCHG-start)"
   ]
  },
  {
   "cell_type": "markdown",
   "metadata": {},
   "source": [
    "As can be seen, the time to print the electron density is the highest of all."
   ]
  }
 ],
 "metadata": {
  "kernelspec": {
   "display_name": "Python 3 (ipykernel)",
   "language": "python",
   "name": "python3"
  },
  "language_info": {
   "codemirror_mode": {
    "name": "ipython",
    "version": 3
   },
   "file_extension": ".py",
   "mimetype": "text/x-python",
   "name": "python",
   "nbconvert_exporter": "python",
   "pygments_lexer": "ipython3",
   "version": "3.7.13"
  }
 },
 "nbformat": 4,
 "nbformat_minor": 2
}
